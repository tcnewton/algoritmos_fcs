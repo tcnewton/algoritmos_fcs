{
 "cells": [
  {
   "cell_type": "code",
   "execution_count": 29,
   "metadata": {},
   "outputs": [],
   "source": [
    "from sklearn import datasets\n",
    "import pandas as pd\n",
    "from pandas import Series"
   ]
  },
  {
   "cell_type": "code",
   "execution_count": 10,
   "metadata": {},
   "outputs": [
    {
     "name": "stdout",
     "output_type": "stream",
     "text": [
      "dict_keys(['data', 'target', 'target_names', 'DESCR', 'feature_names'])\n"
     ]
    }
   ],
   "source": [
    "iris = datasets.load_iris()\n",
    "print(iris.keys())"
   ]
  },
  {
   "cell_type": "code",
   "execution_count": 51,
   "metadata": {},
   "outputs": [],
   "source": [
    "iris_data = []\n",
    "for ii in iris['data']:\n",
    "    iris_data.append(ii)"
   ]
  },
  {
   "cell_type": "code",
   "execution_count": 44,
   "metadata": {},
   "outputs": [],
   "source": [
    "iris_data = []\n",
    "for ii in zip(iris['data'],iris['target']):\n",
    "    iris_data.append(ii)"
   ]
  },
  {
   "cell_type": "code",
   "execution_count": 52,
   "metadata": {},
   "outputs": [
    {
     "data": {
      "text/plain": [
       "0      [5.1, 3.5, 1.4, 0.2]\n",
       "1      [4.9, 3.0, 1.4, 0.2]\n",
       "2      [4.7, 3.2, 1.3, 0.2]\n",
       "3      [4.6, 3.1, 1.5, 0.2]\n",
       "4      [5.0, 3.6, 1.4, 0.2]\n",
       "5      [5.4, 3.9, 1.7, 0.4]\n",
       "6      [4.6, 3.4, 1.4, 0.3]\n",
       "7      [5.0, 3.4, 1.5, 0.2]\n",
       "8      [4.4, 2.9, 1.4, 0.2]\n",
       "9      [4.9, 3.1, 1.5, 0.1]\n",
       "10     [5.4, 3.7, 1.5, 0.2]\n",
       "11     [4.8, 3.4, 1.6, 0.2]\n",
       "12     [4.8, 3.0, 1.4, 0.1]\n",
       "13     [4.3, 3.0, 1.1, 0.1]\n",
       "14     [5.8, 4.0, 1.2, 0.2]\n",
       "15     [5.7, 4.4, 1.5, 0.4]\n",
       "16     [5.4, 3.9, 1.3, 0.4]\n",
       "17     [5.1, 3.5, 1.4, 0.3]\n",
       "18     [5.7, 3.8, 1.7, 0.3]\n",
       "19     [5.1, 3.8, 1.5, 0.3]\n",
       "20     [5.4, 3.4, 1.7, 0.2]\n",
       "21     [5.1, 3.7, 1.5, 0.4]\n",
       "22     [4.6, 3.6, 1.0, 0.2]\n",
       "23     [5.1, 3.3, 1.7, 0.5]\n",
       "24     [4.8, 3.4, 1.9, 0.2]\n",
       "25     [5.0, 3.0, 1.6, 0.2]\n",
       "26     [5.0, 3.4, 1.6, 0.4]\n",
       "27     [5.2, 3.5, 1.5, 0.2]\n",
       "28     [5.2, 3.4, 1.4, 0.2]\n",
       "29     [4.7, 3.2, 1.6, 0.2]\n",
       "               ...         \n",
       "120    [6.9, 3.2, 5.7, 2.3]\n",
       "121    [5.6, 2.8, 4.9, 2.0]\n",
       "122    [7.7, 2.8, 6.7, 2.0]\n",
       "123    [6.3, 2.7, 4.9, 1.8]\n",
       "124    [6.7, 3.3, 5.7, 2.1]\n",
       "125    [7.2, 3.2, 6.0, 1.8]\n",
       "126    [6.2, 2.8, 4.8, 1.8]\n",
       "127    [6.1, 3.0, 4.9, 1.8]\n",
       "128    [6.4, 2.8, 5.6, 2.1]\n",
       "129    [7.2, 3.0, 5.8, 1.6]\n",
       "130    [7.4, 2.8, 6.1, 1.9]\n",
       "131    [7.9, 3.8, 6.4, 2.0]\n",
       "132    [6.4, 2.8, 5.6, 2.2]\n",
       "133    [6.3, 2.8, 5.1, 1.5]\n",
       "134    [6.1, 2.6, 5.6, 1.4]\n",
       "135    [7.7, 3.0, 6.1, 2.3]\n",
       "136    [6.3, 3.4, 5.6, 2.4]\n",
       "137    [6.4, 3.1, 5.5, 1.8]\n",
       "138    [6.0, 3.0, 4.8, 1.8]\n",
       "139    [6.9, 3.1, 5.4, 2.1]\n",
       "140    [6.7, 3.1, 5.6, 2.4]\n",
       "141    [6.9, 3.1, 5.1, 2.3]\n",
       "142    [5.8, 2.7, 5.1, 1.9]\n",
       "143    [6.8, 3.2, 5.9, 2.3]\n",
       "144    [6.7, 3.3, 5.7, 2.5]\n",
       "145    [6.7, 3.0, 5.2, 2.3]\n",
       "146    [6.3, 2.5, 5.0, 1.9]\n",
       "147    [6.5, 3.0, 5.2, 2.0]\n",
       "148    [6.2, 3.4, 5.4, 2.3]\n",
       "149    [5.9, 3.0, 5.1, 1.8]\n",
       "Length: 150, dtype: object"
      ]
     },
     "execution_count": 52,
     "metadata": {},
     "output_type": "execute_result"
    }
   ],
   "source": [
    "pd.Series(iris_data)"
   ]
  },
  {
   "cell_type": "code",
   "execution_count": null,
   "metadata": {
    "collapsed": true
   },
   "outputs": [],
   "source": [
    "def soma_listas(l1, l2):\n",
    "    l3 = []\n",
    "    for x in zip(l1, l2):\n",
    "        l3.append(x[0]+x[1])\n",
    "    return l3"
   ]
  }
 ],
 "metadata": {
  "kernelspec": {
   "display_name": "Python 3",
   "language": "python",
   "name": "python3"
  },
  "language_info": {
   "codemirror_mode": {
    "name": "ipython",
    "version": 3
   },
   "file_extension": ".py",
   "mimetype": "text/x-python",
   "name": "python",
   "nbconvert_exporter": "python",
   "pygments_lexer": "ipython3",
   "version": "3.6.2"
  }
 },
 "nbformat": 4,
 "nbformat_minor": 2
}
