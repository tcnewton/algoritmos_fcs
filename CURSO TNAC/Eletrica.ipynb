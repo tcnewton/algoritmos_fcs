{
 "cells": [
  {
   "cell_type": "code",
   "execution_count": 9,
   "metadata": {
    "collapsed": true
   },
   "outputs": [],
   "source": [
    "import numpy as np"
   ]
  },
  {
   "cell_type": "code",
   "execution_count": 16,
   "metadata": {
    "collapsed": true
   },
   "outputs": [],
   "source": [
    "class Eletric_measure():\n",
    "    def __init__(self,system = 'SI'):\n",
    "        self.system = 'SI'\n",
    "    def balance_tensao(self,RS,ST,RT):\n",
    "        tensao_media = np.mean([RS,ST,RT])\n",
    "        desvio_maximo = max(abs(RS-tensao_media),abs(ST-tensao_media),abs(RT-tensao_media))\n",
    "        desbalanc = desvio_maximo / tensao_media*100\n",
    "        return desbalanc"
   ]
  },
  {
   "cell_type": "code",
   "execution_count": 18,
   "metadata": {},
   "outputs": [
    {
     "name": "stdout",
     "output_type": "stream",
     "text": [
      "12.0\n",
      "SI\n"
     ]
    }
   ],
   "source": [
    "x = Eletric_measure().balance_tensao(230,280,240)\n",
    "print(x)\n",
    "print(Eletric_measure().system)"
   ]
  },
  {
   "cell_type": "code",
   "execution_count": null,
   "metadata": {
    "collapsed": true
   },
   "outputs": [],
   "source": []
  }
 ],
 "metadata": {
  "kernelspec": {
   "display_name": "Python 3",
   "language": "python",
   "name": "python3"
  },
  "language_info": {
   "codemirror_mode": {
    "name": "ipython",
    "version": 3
   },
   "file_extension": ".py",
   "mimetype": "text/x-python",
   "name": "python",
   "nbconvert_exporter": "python",
   "pygments_lexer": "ipython3",
   "version": "3.6.2"
  }
 },
 "nbformat": 4,
 "nbformat_minor": 2
}
