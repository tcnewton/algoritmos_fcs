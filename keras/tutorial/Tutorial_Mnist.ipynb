{
 "cells": [
  {
   "cell_type": "code",
   "execution_count": 99,
   "metadata": {},
   "outputs": [],
   "source": [
    "import numpy as np\n",
    "from keras.datasets import mnist\n",
    "import keras\n",
    "from keras.utils import np_utils\n",
    "from keras.models import Sequential\n",
    "from keras.layers import Activation, Conv2D, Dropout, MaxPooling2D, UpSampling2D, Flatten, Dense"
   ]
  },
  {
   "cell_type": "code",
   "execution_count": 100,
   "metadata": {},
   "outputs": [],
   "source": [
    "(X_train, y_train), (X_test, y_test) = mnist.load_data()"
   ]
  },
  {
   "cell_type": "code",
   "execution_count": 101,
   "metadata": {},
   "outputs": [
    {
     "name": "stdout",
     "output_type": "stream",
     "text": [
      "Formato de treinamento =  (60000, 28, 28) + Label treinamento =  (60000,)\n",
      "Formato de teste =  (10000, 28, 28) + Label treinamento =  (10000,)\n"
     ]
    }
   ],
   "source": [
    "print(\"Formato de treinamento = \",X_train.shape,\"+ Label treinamento = \",y_train.shape)\n",
    "print(\"Formato de teste = \",X_test.shape,\"+ Label treinamento = \",y_test.shape)"
   ]
  },
  {
   "cell_type": "code",
   "execution_count": 102,
   "metadata": {},
   "outputs": [
    {
     "data": {
      "image/png": "[encoded data removed]",
      "text/plain": [
       "<matplotlib.figure.Figure at 0x1d563fcafd0>"
      ]
     },
     "metadata": {},
     "output_type": "display_data"
    },
    {
     "name": "stdout",
     "output_type": "stream",
     "text": [
      "Label =  3\n"
     ]
    }
   ],
   "source": [
    "from matplotlib import pyplot as plt\n",
    "idx = 12\n",
    "plt.imshow(X_train[idx]);plt.show();\n",
    "print (\"Label = \",y_train[idx] )"
   ]
  },
  {
   "cell_type": "markdown",
   "metadata": {},
   "source": [
    "### Redimensionando formato da imagem"
   ]
  },
  {
   "cell_type": "code",
   "execution_count": 103,
   "metadata": {
    "collapsed": true
   },
   "outputs": [],
   "source": [
    "X_train = X_train.astype('float32')\n",
    "X_test = X_test.astype('float32')\n",
    "X_train /= 255\n",
    "X_test /= 255"
   ]
  },
  {
   "cell_type": "markdown",
   "metadata": {},
   "source": [
    "### Redimensionando os labels - one hot encoded"
   ]
  },
  {
   "cell_type": "code",
   "execution_count": 104,
   "metadata": {},
   "outputs": [],
   "source": [
    "# Convert 1-dimensional class arrays to 10-dimensional class matrices\n",
    "Y_train_ohe = np_utils.to_categorical(y_train, 10)\n",
    "Y_test_ohe = np_utils.to_categorical(y_test, 10)"
   ]
  },
  {
   "cell_type": "code",
   "execution_count": 105,
   "metadata": {},
   "outputs": [
    {
     "data": {
      "text/plain": [
       "(60000, 10)"
      ]
     },
     "execution_count": 105,
     "metadata": {},
     "output_type": "execute_result"
    }
   ],
   "source": [
    "Y_train_ohe.shape"
   ]
  },
  {
   "cell_type": "code",
   "execution_count": 106,
   "metadata": {},
   "outputs": [
    {
     "name": "stdout",
     "output_type": "stream",
     "text": [
      "Label =  3 corresponde agora a: [ 0.  0.  0.  1.  0.  0.  0.  0.  0.  0.]\n"
     ]
    }
   ],
   "source": [
    "print(\"Label = \",y_train[12], \"corresponde agora a:\",Y_train_ohe[12])"
   ]
  },
  {
   "cell_type": "markdown",
   "metadata": {},
   "source": [
    "#### Declarando o modelo e sequencia\n",
    "\n",
    "Shape de entrada --> width , height, channel"
   ]
  },
  {
   "cell_type": "code",
   "execution_count": 107,
   "metadata": {},
   "outputs": [
    {
     "name": "stdout",
     "output_type": "stream",
     "text": [
      "_________________________________________________________________\n",
      "Layer (type)                 Output Shape              Param #   \n",
      "=================================================================\n",
      "conv2d_18 (Conv2D)           (None, 26, 26, 32)        320       \n",
      "_________________________________________________________________\n",
      "conv2d_19 (Conv2D)           (None, 24, 24, 32)        9248      \n",
      "_________________________________________________________________\n",
      "max_pooling2d_7 (MaxPooling2 (None, 12, 12, 32)        0         \n",
      "_________________________________________________________________\n",
      "dropout_10 (Dropout)         (None, 12, 12, 32)        0         \n",
      "_________________________________________________________________\n",
      "flatten_5 (Flatten)          (None, 4608)              0         \n",
      "_________________________________________________________________\n",
      "dense_7 (Dense)              (None, 128)               589952    \n",
      "_________________________________________________________________\n",
      "dropout_11 (Dropout)         (None, 128)               0         \n",
      "_________________________________________________________________\n",
      "dense_8 (Dense)              (None, 10)                1290      \n",
      "=================================================================\n",
      "Total params: 600,810\n",
      "Trainable params: 600,810\n",
      "Non-trainable params: 0\n",
      "_________________________________________________________________\n"
     ]
    }
   ],
   "source": [
    "input_shape = (X_train[0].shape[0], X_train[0].shape[1], 1)\n",
    "model = Sequential()\n",
    "model.add(Conv2D(32,kernel_size= (3, 3), activation='relu', input_shape=input_shape))\n",
    "model.add(Conv2D(32, (3, 3), activation='relu'))\n",
    "model.add(MaxPooling2D(pool_size=(2,2)))\n",
    "model.add(Dropout(0.25))\n",
    "model.add(Flatten())\n",
    "model.add(Dense(128, activation='relu'))\n",
    "model.add(Dropout(0.5))\n",
    "model.add(Dense(10, activation='softmax'))\n",
    "model.summary()"
   ]
  },
  {
   "cell_type": "code",
   "execution_count": 108,
   "metadata": {
    "collapsed": true
   },
   "outputs": [],
   "source": [
    "### Prepare Data"
   ]
  },
  {
   "cell_type": "code",
   "execution_count": 109,
   "metadata": {},
   "outputs": [],
   "source": [
    "# Reshape input images to fit TensorFlow shape pattern\n",
    "X_train = X_train.reshape(X_train.shape[0], X_train.shape[1], X_train.shape[2], 1)\n",
    "X_test = X_test.reshape(X_test.shape[0], X_test.shape[1], X_test.shape[2], 1)"
   ]
  },
  {
   "cell_type": "markdown",
   "metadata": {},
   "source": [
    "#### Compile model"
   ]
  },
  {
   "cell_type": "code",
   "execution_count": 110,
   "metadata": {
    "collapsed": true
   },
   "outputs": [],
   "source": [
    "model.compile(loss='categorical_crossentropy',\n",
    "              optimizer='adam',\n",
    "              metrics=['accuracy'])"
   ]
  },
  {
   "cell_type": "markdown",
   "metadata": {},
   "source": [
    "### Compile model"
   ]
  },
  {
   "cell_type": "code",
   "execution_count": 111,
   "metadata": {},
   "outputs": [
    {
     "name": "stdout",
     "output_type": "stream",
     "text": [
      "Train on 60000 samples, validate on 10000 samples\n",
      "Epoch 1/10\n",
      "60000/60000 [==============================] - 104s - loss: 0.2020 - acc: 0.9395 - val_loss: 0.0467 - val_acc: 0.9848\n",
      "Epoch 2/10\n",
      "60000/60000 [==============================] - 108s - loss: 0.0856 - acc: 0.9747 - val_loss: 0.0354 - val_acc: 0.9880\n",
      "Epoch 3/10\n",
      "60000/60000 [==============================] - 110s - loss: 0.0652 - acc: 0.9805 - val_loss: 0.0346 - val_acc: 0.9878\n",
      "Epoch 4/10\n",
      "60000/60000 [==============================] - 107s - loss: 0.0540 - acc: 0.9833 - val_loss: 0.0348 - val_acc: 0.9895\n",
      "Epoch 5/10\n",
      "60000/60000 [==============================] - 103s - loss: 0.0460 - acc: 0.9860 - val_loss: 0.0322 - val_acc: 0.9894\n",
      "Epoch 6/10\n",
      "60000/60000 [==============================] - 104s - loss: 0.0401 - acc: 0.9872 - val_loss: 0.0278 - val_acc: 0.9919\n",
      "Epoch 7/10\n",
      "60000/60000 [==============================] - 103s - loss: 0.0361 - acc: 0.9888 - val_loss: 0.0297 - val_acc: 0.9914\n",
      "Epoch 8/10\n",
      "60000/60000 [==============================] - 103s - loss: 0.0309 - acc: 0.9898 - val_loss: 0.0292 - val_acc: 0.9912\n",
      "Epoch 9/10\n",
      "60000/60000 [==============================] - 102s - loss: 0.0310 - acc: 0.9905 - val_loss: 0.0266 - val_acc: 0.9918\n",
      "Epoch 10/10\n",
      "60000/60000 [==============================] - 103s - loss: 0.0289 - acc: 0.9908 - val_loss: 0.0263 - val_acc: 0.9928\n"
     ]
    },
    {
     "data": {
      "text/plain": [
       "<keras.callbacks.History at 0x1d561e5c668>"
      ]
     },
     "execution_count": 111,
     "metadata": {},
     "output_type": "execute_result"
    }
   ],
   "source": [
    "epochs = 10\n",
    "batch_size = 32\n",
    "model.fit(X_train, Y_train,batch_size=batch_size, epochs=epochs, verbose=1, validation_data=(X_test, Y_test_ohe))"
   ]
  }
 ],
 "metadata": {
  "kernelspec": {
   "display_name": "Python 3",
   "language": "python",
   "name": "python3"
  },
  "language_info": {
   "codemirror_mode": {
    "name": "ipython",
    "version": 3
   },
   "file_extension": ".py",
   "mimetype": "text/x-python",
   "name": "python",
   "nbconvert_exporter": "python",
   "pygments_lexer": "ipython3",
   "version": "3.6.2"
  }
 },
 "nbformat": 4,
 "nbformat_minor": 2
}
