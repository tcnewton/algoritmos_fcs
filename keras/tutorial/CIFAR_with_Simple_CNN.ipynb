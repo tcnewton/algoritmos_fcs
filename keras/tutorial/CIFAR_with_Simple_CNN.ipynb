{
 "cells": [
  {
   "cell_type": "code",
   "execution_count": 1,
   "metadata": {},
   "outputs": [
    {
     "name": "stderr",
     "output_type": "stream",
     "text": [
      "Using TensorFlow backend.\n"
     ]
    }
   ],
   "source": [
    "'''Train a simple deep CNN on the CIFAR10 small images dataset.\n",
    "\n",
    "It gets to 75% validation accuracy in 25 epochs, and 79% after 50 epochs.\n",
    "(it's still underfitting at that point, though).\n",
    "'''\n",
    "\n",
    "from __future__ import print_function\n",
    "import keras\n",
    "from keras.datasets import cifar10\n",
    "from keras.preprocessing.image import ImageDataGenerator\n",
    "from keras.models import Sequential\n",
    "from keras.layers import Dense, Dropout, Activation, Flatten\n",
    "from keras.layers import Conv2D, MaxPooling2D\n",
    "import numpy as np\n",
    "import os"
   ]
  },
  {
   "cell_type": "code",
   "execution_count": 2,
   "metadata": {
    "collapsed": true
   },
   "outputs": [],
   "source": [
    "batch_size = 32\n",
    "num_classes = 10\n",
    "epochs = 100\n",
    "data_augmentation = True\n",
    "num_predictions = 20\n",
    "save_dir = os.path.join(os.getcwd(), 'saved_models')\n",
    "model_name = 'keras_cifar10_trained_model.h5'"
   ]
  },
  {
   "cell_type": "code",
   "execution_count": 3,
   "metadata": {},
   "outputs": [
    {
     "name": "stdout",
     "output_type": "stream",
     "text": [
      "Downloading data from http://www.cs.toronto.edu/~kriz/cifar-10-python.tar.gz\n",
      "170500096/170498071 [==============================] - 119s   \n",
      "x_train shape: (50000, 32, 32, 3)\n",
      "50000 train samples\n",
      "10000 test samples\n"
     ]
    }
   ],
   "source": [
    "# The data, shuffled and split between train and test sets:\n",
    "(x_train, y_train), (x_test, y_test) = cifar10.load_data()\n",
    "print('x_train shape:', x_train.shape)\n",
    "print(x_train.shape[0], 'train samples')\n",
    "print(x_test.shape[0], 'test samples')"
   ]
  },
  {
   "cell_type": "code",
   "execution_count": 4,
   "metadata": {
    "collapsed": true
   },
   "outputs": [],
   "source": [
    "# Convert class vectors to binary class matrices. (One-hot-encoded)\n",
    "y_train = keras.utils.to_categorical(y_train, num_classes)\n",
    "y_test = keras.utils.to_categorical(y_test, num_classes)\n"
   ]
  },
  {
   "cell_type": "markdown",
   "metadata": {},
   "source": [
    "### Iniciando o modelo"
   ]
  },
  {
   "cell_type": "code",
   "execution_count": 5,
   "metadata": {
    "collapsed": true
   },
   "outputs": [],
   "source": [
    "model = Sequential()\n",
    "model.add(Conv2D(32, (3, 3), padding='same',\n",
    "                 input_shape=x_train.shape[1:]))\n",
    "model.add(Activation('relu'))\n",
    "model.add(Conv2D(32, (3, 3)))\n",
    "model.add(Activation('relu'))\n",
    "model.add(MaxPooling2D(pool_size=(2, 2)))\n",
    "model.add(Dropout(0.25))\n",
    "\n",
    "model.add(Conv2D(64, (3, 3), padding='same'))\n",
    "model.add(Activation('relu'))\n",
    "model.add(Conv2D(64, (3, 3)))\n",
    "model.add(Activation('relu'))\n",
    "model.add(MaxPooling2D(pool_size=(2, 2)))\n",
    "model.add(Dropout(0.25))\n",
    "\n",
    "model.add(Flatten())\n",
    "model.add(Dense(512))\n",
    "model.add(Activation('relu'))\n",
    "model.add(Dropout(0.5))\n",
    "model.add(Dense(num_classes))\n",
    "model.add(Activation('softmax'))"
   ]
  },
  {
   "cell_type": "markdown",
   "metadata": {},
   "source": [
    "### Declare compiler"
   ]
  },
  {
   "cell_type": "code",
   "execution_count": 6,
   "metadata": {
    "collapsed": true
   },
   "outputs": [],
   "source": [
    "# initiate RMSprop optimizer\n",
    "opt = keras.optimizers.rmsprop(lr=0.0001, decay=1e-6)\n",
    "\n",
    "# Let's train the model using RMSprop\n",
    "model.compile(loss='categorical_crossentropy',\n",
    "              optimizer=opt,\n",
    "              metrics=['accuracy'])\n"
   ]
  },
  {
   "cell_type": "markdown",
   "metadata": {},
   "source": [
    "### Normalizando a imagem"
   ]
  },
  {
   "cell_type": "code",
   "execution_count": 7,
   "metadata": {
    "collapsed": true
   },
   "outputs": [],
   "source": [
    "x_train = x_train.astype('float32')\n",
    "x_test = x_test.astype('float32')\n",
    "x_train /= 255\n",
    "x_test /= 255"
   ]
  },
  {
   "cell_type": "code",
   "execution_count": 8,
   "metadata": {},
   "outputs": [
    {
     "name": "stdout",
     "output_type": "stream",
     "text": [
      "Using real-time data augmentation.\n",
      "Epoch 1/100\n",
      "1563/1563 [==============================] - 216s - loss: 1.8900 - acc: 0.3014 - val_loss: 1.5746 - val_acc: 0.4342\n",
      "Epoch 2/100\n",
      "1563/1563 [==============================] - 213s - loss: 1.5851 - acc: 0.4172 - val_loss: 1.3991 - val_acc: 0.4947\n",
      "Epoch 3/100\n",
      "1563/1563 [==============================] - 210s - loss: 1.4609 - acc: 0.4721 - val_loss: 1.2719 - val_acc: 0.5458\n",
      "Epoch 4/100\n",
      "1563/1563 [==============================] - 213s - loss: 1.3653 - acc: 0.5105 - val_loss: 1.2085 - val_acc: 0.5671\n",
      "Epoch 5/100\n",
      "1563/1563 [==============================] - 208s - loss: 1.2905 - acc: 0.5401 - val_loss: 1.1499 - val_acc: 0.6002\n",
      "Epoch 6/100\n",
      "1563/1563 [==============================] - 203s - loss: 1.2235 - acc: 0.5644 - val_loss: 1.0632 - val_acc: 0.6299\n",
      "Epoch 7/100\n",
      "1563/1563 [==============================] - 204s - loss: 1.1732 - acc: 0.5835 - val_loss: 1.0987 - val_acc: 0.6189\n",
      "Epoch 8/100\n",
      "1563/1563 [==============================] - 205s - loss: 1.1309 - acc: 0.5991 - val_loss: 0.9669 - val_acc: 0.6628\n",
      "Epoch 9/100\n",
      "1563/1563 [==============================] - 205s - loss: 1.0947 - acc: 0.6151 - val_loss: 0.9676 - val_acc: 0.6618\n",
      "Epoch 10/100\n",
      "1563/1563 [==============================] - 204s - loss: 1.0639 - acc: 0.6236 - val_loss: 0.9299 - val_acc: 0.6787\n",
      "Epoch 11/100\n",
      "1563/1563 [==============================] - 206s - loss: 1.0356 - acc: 0.6335 - val_loss: 0.8816 - val_acc: 0.6888\n",
      "Epoch 12/100\n",
      "1563/1563 [==============================] - 208s - loss: 1.0131 - acc: 0.6435 - val_loss: 0.8695 - val_acc: 0.6968\n",
      "Epoch 13/100\n",
      "1563/1563 [==============================] - 215s - loss: 0.9941 - acc: 0.6488 - val_loss: 0.8405 - val_acc: 0.7020\n",
      "Epoch 14/100\n",
      "1563/1563 [==============================] - 205s - loss: 0.9769 - acc: 0.6562 - val_loss: 0.8457 - val_acc: 0.7007\n",
      "Epoch 15/100\n",
      "1563/1563 [==============================] - 207s - loss: 0.9555 - acc: 0.6610 - val_loss: 0.8205 - val_acc: 0.7140\n",
      "Epoch 16/100\n",
      "1563/1563 [==============================] - 209s - loss: 0.9433 - acc: 0.6675 - val_loss: 0.8247 - val_acc: 0.7102\n",
      "Epoch 17/100\n",
      "1563/1563 [==============================] - 212s - loss: 0.9312 - acc: 0.6752 - val_loss: 0.8014 - val_acc: 0.7186\n",
      "Epoch 18/100\n",
      "1563/1563 [==============================] - 214s - loss: 0.9209 - acc: 0.6776 - val_loss: 0.7962 - val_acc: 0.7185\n",
      "Epoch 19/100\n",
      "1563/1563 [==============================] - 219s - loss: 0.9034 - acc: 0.6859 - val_loss: 0.7985 - val_acc: 0.7244\n",
      "Epoch 20/100\n",
      "1563/1563 [==============================] - 214s - loss: 0.8974 - acc: 0.6854 - val_loss: 0.8088 - val_acc: 0.7204\n",
      "Epoch 21/100\n",
      "1563/1563 [==============================] - 228s - loss: 0.8867 - acc: 0.6915 - val_loss: 0.7706 - val_acc: 0.7356\n",
      "Epoch 22/100\n",
      "1563/1563 [==============================] - 223s - loss: 0.8817 - acc: 0.6921 - val_loss: 0.7546 - val_acc: 0.7377\n",
      "Epoch 23/100\n",
      "1563/1563 [==============================] - 214s - loss: 0.8736 - acc: 0.6980 - val_loss: 0.7779 - val_acc: 0.7303\n",
      "Epoch 24/100\n",
      "1563/1563 [==============================] - 215s - loss: 0.8657 - acc: 0.6986 - val_loss: 0.7704 - val_acc: 0.7306\n",
      "Epoch 25/100\n",
      "1563/1563 [==============================] - 222s - loss: 0.8664 - acc: 0.7005 - val_loss: 0.7229 - val_acc: 0.7468\n",
      "Epoch 26/100\n",
      "1563/1563 [==============================] - 214s - loss: 0.8584 - acc: 0.7040 - val_loss: 0.7778 - val_acc: 0.7276\n",
      "Epoch 27/100\n",
      "1563/1563 [==============================] - 214s - loss: 0.8513 - acc: 0.7062 - val_loss: 0.7562 - val_acc: 0.7399\n",
      "Epoch 28/100\n",
      "1563/1563 [==============================] - 212s - loss: 0.8484 - acc: 0.7082 - val_loss: 0.7485 - val_acc: 0.7481\n",
      "Epoch 29/100\n",
      "1563/1563 [==============================] - 221s - loss: 0.8387 - acc: 0.7138 - val_loss: 0.7547 - val_acc: 0.7546\n",
      "Epoch 30/100\n",
      "1563/1563 [==============================] - 228s - loss: 0.8413 - acc: 0.7122 - val_loss: 0.7516 - val_acc: 0.7465\n",
      "Epoch 31/100\n",
      "1563/1563 [==============================] - 218s - loss: 0.8379 - acc: 0.7133 - val_loss: 0.7240 - val_acc: 0.7594\n",
      "Epoch 32/100\n",
      "1563/1563 [==============================] - 217s - loss: 0.8265 - acc: 0.7157 - val_loss: 0.7123 - val_acc: 0.7507\n",
      "Epoch 33/100\n",
      "1563/1563 [==============================] - 217s - loss: 0.8293 - acc: 0.7169 - val_loss: 0.7020 - val_acc: 0.7613\n",
      "Epoch 34/100\n",
      "1563/1563 [==============================] - 216s - loss: 0.8182 - acc: 0.7192 - val_loss: 0.7081 - val_acc: 0.7632\n",
      "Epoch 35/100\n",
      "1563/1563 [==============================] - 218s - loss: 0.8190 - acc: 0.7220 - val_loss: 0.7034 - val_acc: 0.7608\n",
      "Epoch 36/100\n",
      "1563/1563 [==============================] - 221s - loss: 0.8151 - acc: 0.7211 - val_loss: 0.7003 - val_acc: 0.7660\n",
      "Epoch 37/100\n",
      "1563/1563 [==============================] - 222s - loss: 0.8087 - acc: 0.7244 - val_loss: 0.7125 - val_acc: 0.7504\n",
      "Epoch 38/100\n",
      "1563/1563 [==============================] - 221s - loss: 0.8060 - acc: 0.7244 - val_loss: 0.6802 - val_acc: 0.7722\n",
      "Epoch 39/100\n",
      "1563/1563 [==============================] - 213s - loss: 0.8032 - acc: 0.7258 - val_loss: 0.6859 - val_acc: 0.7727\n",
      "Epoch 40/100\n",
      "1563/1563 [==============================] - 211s - loss: 0.7980 - acc: 0.7266 - val_loss: 0.6729 - val_acc: 0.7750\n",
      "Epoch 41/100\n",
      "1563/1563 [==============================] - 214s - loss: 0.8000 - acc: 0.7281 - val_loss: 0.7049 - val_acc: 0.7619\n",
      "Epoch 42/100\n",
      "1563/1563 [==============================] - 213s - loss: 0.7969 - acc: 0.7286 - val_loss: 0.6706 - val_acc: 0.7771\n",
      "Epoch 43/100\n",
      "1563/1563 [==============================] - 213s - loss: 0.7982 - acc: 0.7289 - val_loss: 0.6935 - val_acc: 0.7677\n",
      "Epoch 44/100\n",
      "1563/1563 [==============================] - 212s - loss: 0.7986 - acc: 0.7293 - val_loss: 0.7022 - val_acc: 0.7755\n",
      "Epoch 45/100\n",
      "1563/1563 [==============================] - 213s - loss: 0.7901 - acc: 0.7337 - val_loss: 0.7274 - val_acc: 0.7729\n",
      "Epoch 46/100\n",
      "1563/1563 [==============================] - 223s - loss: 0.7904 - acc: 0.7349 - val_loss: 0.6679 - val_acc: 0.7741\n",
      "Epoch 47/100\n",
      "1563/1563 [==============================] - 221s - loss: 0.7859 - acc: 0.7341 - val_loss: 0.6639 - val_acc: 0.7725\n",
      "Epoch 48/100\n",
      "1563/1563 [==============================] - 210s - loss: 0.7863 - acc: 0.7336 - val_loss: 0.6923 - val_acc: 0.7638\n",
      "Epoch 49/100\n",
      "1563/1563 [==============================] - 208s - loss: 0.7795 - acc: 0.7383 - val_loss: 0.6836 - val_acc: 0.7733\n",
      "Epoch 50/100\n",
      "1563/1563 [==============================] - 210s - loss: 0.7847 - acc: 0.7336 - val_loss: 0.6709 - val_acc: 0.7824\n",
      "Epoch 51/100\n",
      "1563/1563 [==============================] - 211s - loss: 0.7808 - acc: 0.7338 - val_loss: 0.6758 - val_acc: 0.7743\n",
      "Epoch 52/100\n",
      "1563/1563 [==============================] - 210s - loss: 0.7768 - acc: 0.7384 - val_loss: 0.6518 - val_acc: 0.7816\n",
      "Epoch 53/100\n",
      "1563/1563 [==============================] - 208s - loss: 0.7775 - acc: 0.7380 - val_loss: 0.6457 - val_acc: 0.7903\n",
      "Epoch 54/100\n",
      "1563/1563 [==============================] - 215s - loss: 0.7770 - acc: 0.7389 - val_loss: 0.6890 - val_acc: 0.7671\n",
      "Epoch 55/100\n",
      "1563/1563 [==============================] - 216s - loss: 0.7805 - acc: 0.7369 - val_loss: 0.7005 - val_acc: 0.7841\n",
      "Epoch 56/100\n",
      "1563/1563 [==============================] - 210s - loss: 0.7749 - acc: 0.7419 - val_loss: 0.6664 - val_acc: 0.7771\n",
      "Epoch 57/100\n",
      "1563/1563 [==============================] - 209s - loss: 0.7761 - acc: 0.7393 - val_loss: 0.6503 - val_acc: 0.7856\n",
      "Epoch 58/100\n",
      "1563/1563 [==============================] - 208s - loss: 0.7691 - acc: 0.7415 - val_loss: 0.6627 - val_acc: 0.7857\n",
      "Epoch 59/100\n",
      "1563/1563 [==============================] - 210s - loss: 0.7745 - acc: 0.7403 - val_loss: 0.6745 - val_acc: 0.7784\n",
      "Epoch 60/100\n",
      "1563/1563 [==============================] - 209s - loss: 0.7770 - acc: 0.7392 - val_loss: 0.6759 - val_acc: 0.7816\n",
      "Epoch 61/100\n",
      "1563/1563 [==============================] - 208s - loss: 0.7719 - acc: 0.7426 - val_loss: 0.6726 - val_acc: 0.7800\n",
      "Epoch 62/100\n",
      "1563/1563 [==============================] - 210s - loss: 0.7734 - acc: 0.7395 - val_loss: 0.6586 - val_acc: 0.7847\n",
      "Epoch 63/100\n",
      "1563/1563 [==============================] - 219s - loss: 0.7664 - acc: 0.7440 - val_loss: 0.8377 - val_acc: 0.7502\n",
      "Epoch 64/100\n"
     ]
    },
    {
     "name": "stdout",
     "output_type": "stream",
     "text": [
      "1563/1563 [==============================] - 212s - loss: 0.7766 - acc: 0.7412 - val_loss: 0.6874 - val_acc: 0.7812\n",
      "Epoch 65/100\n",
      "1563/1563 [==============================] - 209s - loss: 0.7733 - acc: 0.7426 - val_loss: 0.7857 - val_acc: 0.7571\n",
      "Epoch 66/100\n",
      "1563/1563 [==============================] - 208s - loss: 0.7703 - acc: 0.7435 - val_loss: 0.6594 - val_acc: 0.7818\n",
      "Epoch 67/100\n",
      "1563/1563 [==============================] - 210s - loss: 0.7734 - acc: 0.7425 - val_loss: 0.6620 - val_acc: 0.7769\n",
      "Epoch 68/100\n",
      "1563/1563 [==============================] - 210s - loss: 0.7752 - acc: 0.7414 - val_loss: 0.6895 - val_acc: 0.7802\n",
      "Epoch 69/100\n",
      "1563/1563 [==============================] - 209s - loss: 0.7831 - acc: 0.7375 - val_loss: 0.6735 - val_acc: 0.7750\n",
      "Epoch 70/100\n",
      "1563/1563 [==============================] - 208s - loss: 0.7769 - acc: 0.7404 - val_loss: 0.7545 - val_acc: 0.7543\n",
      "Epoch 71/100\n",
      "1563/1563 [==============================] - 216s - loss: 0.7694 - acc: 0.7434 - val_loss: 0.7105 - val_acc: 0.7793\n",
      "Epoch 72/100\n",
      "1563/1563 [==============================] - 217s - loss: 0.7762 - acc: 0.7407 - val_loss: 0.7422 - val_acc: 0.7553\n",
      "Epoch 73/100\n",
      "1563/1563 [==============================] - 210s - loss: 0.7761 - acc: 0.7408 - val_loss: 0.7086 - val_acc: 0.7843\n",
      "Epoch 74/100\n",
      "1563/1563 [==============================] - 208s - loss: 0.7757 - acc: 0.7411 - val_loss: 0.7518 - val_acc: 0.7775\n",
      "Epoch 75/100\n",
      "1563/1563 [==============================] - 209s - loss: 0.7816 - acc: 0.7405 - val_loss: 0.7634 - val_acc: 0.7522\n",
      "Epoch 76/100\n",
      "1563/1563 [==============================] - 210s - loss: 0.7814 - acc: 0.7401 - val_loss: 0.6363 - val_acc: 0.7881\n",
      "Epoch 77/100\n",
      "1563/1563 [==============================] - 210s - loss: 0.7841 - acc: 0.7405 - val_loss: 0.7152 - val_acc: 0.7764\n",
      "Epoch 78/100\n",
      "1563/1563 [==============================] - 208s - loss: 0.7859 - acc: 0.7388 - val_loss: 0.6829 - val_acc: 0.7752\n",
      "Epoch 79/100\n",
      "1563/1563 [==============================] - 209s - loss: 0.7821 - acc: 0.7425 - val_loss: 0.6785 - val_acc: 0.7869\n",
      "Epoch 80/100\n",
      "1563/1563 [==============================] - 220s - loss: 0.7858 - acc: 0.7390 - val_loss: 0.6724 - val_acc: 0.7840\n",
      "Epoch 81/100\n",
      "1563/1563 [==============================] - 212s - loss: 0.7854 - acc: 0.7400 - val_loss: 0.7743 - val_acc: 0.7696\n",
      "Epoch 82/100\n",
      "1563/1563 [==============================] - 209s - loss: 0.7844 - acc: 0.7402 - val_loss: 0.6535 - val_acc: 0.7869\n",
      "Epoch 83/100\n",
      "1563/1563 [==============================] - 208s - loss: 0.7873 - acc: 0.7353 - val_loss: 0.6761 - val_acc: 0.7880\n",
      "Epoch 84/100\n",
      "1563/1563 [==============================] - 210s - loss: 0.7874 - acc: 0.7390 - val_loss: 0.7607 - val_acc: 0.7680\n",
      "Epoch 85/100\n",
      "1563/1563 [==============================] - 210s - loss: 0.7874 - acc: 0.7384 - val_loss: 0.6600 - val_acc: 0.7776\n",
      "Epoch 86/100\n",
      "1563/1563 [==============================] - 209s - loss: 0.7885 - acc: 0.7388 - val_loss: 0.6802 - val_acc: 0.7724\n",
      "Epoch 87/100\n",
      "1563/1563 [==============================] - 208s - loss: 0.7902 - acc: 0.7376 - val_loss: 0.8117 - val_acc: 0.7524\n",
      "Epoch 88/100\n",
      "1563/1563 [==============================] - 216s - loss: 0.7921 - acc: 0.7377 - val_loss: 0.7482 - val_acc: 0.7575\n",
      "Epoch 89/100\n",
      "1563/1563 [==============================] - 216s - loss: 0.7932 - acc: 0.7397 - val_loss: 0.6751 - val_acc: 0.7817\n",
      "Epoch 90/100\n",
      "1563/1563 [==============================] - 209s - loss: 0.7935 - acc: 0.7376 - val_loss: 0.6798 - val_acc: 0.7820\n",
      "Epoch 91/100\n",
      "1563/1563 [==============================] - 208s - loss: 0.7969 - acc: 0.7372 - val_loss: 0.7305 - val_acc: 0.7776\n",
      "Epoch 92/100\n",
      "1563/1563 [==============================] - 210s - loss: 0.8011 - acc: 0.7344 - val_loss: 0.7175 - val_acc: 0.7745\n",
      "Epoch 93/100\n",
      "1563/1563 [==============================] - 210s - loss: 0.8014 - acc: 0.7347 - val_loss: 0.6858 - val_acc: 0.7815\n",
      "Epoch 94/100\n",
      "1563/1563 [==============================] - 209s - loss: 0.8015 - acc: 0.7385 - val_loss: 0.7008 - val_acc: 0.7735\n",
      "Epoch 95/100\n",
      "1563/1563 [==============================] - 208s - loss: 0.7991 - acc: 0.7371 - val_loss: 0.7368 - val_acc: 0.7731\n",
      "Epoch 96/100\n",
      "1563/1563 [==============================] - 210s - loss: 0.8096 - acc: 0.7311 - val_loss: 0.8384 - val_acc: 0.7447\n",
      "Epoch 97/100\n",
      "1563/1563 [==============================] - 219s - loss: 0.8088 - acc: 0.7344 - val_loss: 0.7002 - val_acc: 0.7774\n",
      "Epoch 98/100\n",
      "1563/1563 [==============================] - 212s - loss: 0.8039 - acc: 0.7358 - val_loss: 0.7300 - val_acc: 0.7756\n",
      "Epoch 99/100\n",
      "1563/1563 [==============================] - 208s - loss: 0.8147 - acc: 0.7314 - val_loss: 0.7250 - val_acc: 0.7762\n",
      "Epoch 100/100\n",
      "1563/1563 [==============================] - 209s - loss: 0.8111 - acc: 0.7323 - val_loss: 0.6823 - val_acc: 0.7842\n"
     ]
    }
   ],
   "source": [
    "if not data_augmentation:\n",
    "    print('Not using data augmentation.')\n",
    "    model.fit(x_train, y_train,\n",
    "              batch_size=batch_size,\n",
    "              epochs=epochs,\n",
    "              validation_data=(x_test, y_test),\n",
    "              shuffle=True)\n",
    "else:\n",
    "    print('Using real-time data augmentation.')\n",
    "    # This will do preprocessing and realtime data augmentation:\n",
    "    datagen = ImageDataGenerator(\n",
    "        featurewise_center=False,  # set input mean to 0 over the dataset\n",
    "        samplewise_center=False,  # set each sample mean to 0\n",
    "        featurewise_std_normalization=False,  # divide inputs by std of the dataset\n",
    "        samplewise_std_normalization=False,  # divide each input by its std\n",
    "        zca_whitening=False,  # apply ZCA whitening\n",
    "        rotation_range=0,  # randomly rotate images in the range (degrees, 0 to 180)\n",
    "        width_shift_range=0.1,  # randomly shift images horizontally (fraction of total width)\n",
    "        height_shift_range=0.1,  # randomly shift images vertically (fraction of total height)\n",
    "        horizontal_flip=True,  # randomly flip images\n",
    "        vertical_flip=False)  # randomly flip images\n",
    "\n",
    "    # Compute quantities required for feature-wise normalization\n",
    "    # (std, mean, and principal components if ZCA whitening is applied).\n",
    "    datagen.fit(x_train)\n",
    "\n",
    "    # Fit the model on the batches generated by datagen.flow().\n",
    "    model.fit_generator(datagen.flow(x_train, y_train,\n",
    "                                     batch_size=batch_size),\n",
    "                        steps_per_epoch=int(np.ceil(x_train.shape[0] / float(batch_size))),\n",
    "                        epochs=epochs,\n",
    "                        validation_data=(x_test, y_test),\n",
    "                        workers=4)\n",
    "\n"
   ]
  },
  {
   "cell_type": "code",
   "execution_count": 9,
   "metadata": {},
   "outputs": [
    {
     "name": "stdout",
     "output_type": "stream",
     "text": [
      "Saved trained model at C:\\Users\\Tales\\algoritmos_fcs\\keras\\tutorial\\saved_models\\keras_cifar10_trained_model.h5 \n"
     ]
    }
   ],
   "source": [
    "# Save model and weights\n",
    "if not os.path.isdir(save_dir):\n",
    "    os.makedirs(save_dir)\n",
    "model_path = os.path.join(save_dir, model_name)\n",
    "model.save(model_path)\n",
    "print('Saved trained model at %s ' % model_path)\n",
    "\n"
   ]
  },
  {
   "cell_type": "code",
   "execution_count": 10,
   "metadata": {},
   "outputs": [
    {
     "name": "stdout",
     "output_type": "stream",
     "text": [
      "10000/10000 [==============================] - 11s    \n",
      "Test loss: 0.682266796303\n",
      "Test accuracy: 0.7842\n"
     ]
    }
   ],
   "source": [
    "# Score trained model.\n",
    "scores = model.evaluate(x_test, y_test, verbose=1)\n",
    "print('Test loss:', scores[0])\n",
    "print('Test accuracy:', scores[1])"
   ]
  }
 ],
 "metadata": {
  "kernelspec": {
   "display_name": "Python 3",
   "language": "python",
   "name": "python3"
  },
  "language_info": {
   "codemirror_mode": {
    "name": "ipython",
    "version": 3
   },
   "file_extension": ".py",
   "mimetype": "text/x-python",
   "name": "python",
   "nbconvert_exporter": "python",
   "pygments_lexer": "ipython3",
   "version": "3.6.2"
  }
 },
 "nbformat": 4,
 "nbformat_minor": 2
}
