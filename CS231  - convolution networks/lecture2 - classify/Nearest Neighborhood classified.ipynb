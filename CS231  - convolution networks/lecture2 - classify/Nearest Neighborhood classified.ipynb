{
 "cells": [
  {
   "cell_type": "code",
   "execution_count": 2,
   "metadata": {},
   "outputs": [],
   "source": [
    "import numpy as np"
   ]
  },
  {
   "cell_type": "code",
   "execution_count": null,
   "metadata": {
    "collapsed": true
   },
   "outputs": [],
   "source": [
    "class NearestNeighbor:\n",
    "    def __init__(self):\n",
    "    pass\n",
    "\n",
    "    def train(self,X,y):\n",
    "        \"\"\"X is N x D where each row is an example. Y is 1-dimension of size N\"\"\"\n",
    "        # the nearest neighbor classifier simply remembers all the training data\n",
    "        self.Xtr = X\n",
    "        self.ytr = y\n",
    "\n",
    "    def predict(self,X):\n",
    "        \"\"\"X is N x D where each row is an example we wish to predict label for \"\"\"\n",
    "        num_test = X.shape[0]\n",
    "        #lets make sure that the output type matches the input type\n",
    "        Ypred = np.zeros(num_test, dtype = self.ytr.dtype)\n",
    "\n",
    "        #loop over all test rows\n",
    "        for i in range(num_test):\n",
    "            # find the nearest training image to the 1'th test image\n",
    "            #using the L1 distance (sum of absolute value differences)\n",
    "            distances = np.sum(np.abs(sself.Xtr - X[i,:]),axis=1)\n",
    "            min_index = np.argmin(distances) # get the index with smnallest distance\n",
    "            Ypred[i] =self.ytr[min_index]# predict the label of the nearest example\n",
    "            return Ypred"
   ]
  }
 ],
 "metadata": {
  "kernelspec": {
   "display_name": "Python 3",
   "language": "python",
   "name": "python3"
  },
  "language_info": {
   "codemirror_mode": {
    "name": "ipython",
    "version": 3
   },
   "file_extension": ".py",
   "mimetype": "text/x-python",
   "name": "python",
   "nbconvert_exporter": "python",
   "pygments_lexer": "ipython3",
   "version": "3.6.2"
  }
 },
 "nbformat": 4,
 "nbformat_minor": 2
}
